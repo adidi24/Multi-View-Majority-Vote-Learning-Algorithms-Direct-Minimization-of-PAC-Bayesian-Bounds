{
 "cells": [
  {
   "cell_type": "markdown",
   "metadata": {},
   "source": [
    "# Multi-View-Majority-Vote-Learning-Algorithms-Direct-Minimization-of-PAC-Bayesian-Bounds"
   ]
  },
  {
   "cell_type": "markdown",
   "metadata": {},
   "source": [
    "This Notebook contains everything necessary to reproduce the experiments in our paper:  \n",
    "\n",
    "*Multi-View Majority Vote Learning Algorithms: Direct Minimization of PAC-Bayesian Bounds*"
   ]
  },
  {
   "cell_type": "markdown",
   "metadata": {},
   "source": [
    "# Imports"
   ]
  },
  {
   "cell_type": "code",
   "execution_count": 1,
   "metadata": {},
   "outputs": [],
   "source": [
    "# %pip install -r requirements.txt"
   ]
  },
  {
   "cell_type": "code",
   "execution_count": 1,
   "metadata": {
    "tags": []
   },
   "outputs": [],
   "source": [
    "import os\n",
    "import seaborn as sns\n",
    "import matplotlib.pyplot as plt\n",
    "import pandas as pd\n",
    "import numpy as np\n",
    "from numpy.core.defchararray import find, lower\n",
    "from termcolor import colored\n",
    "from datetime import datetime\n",
    "\n",
    "# Scikit-learn\n",
    "from sklearn import preprocessing\n",
    "from sklearn.utils import check_random_state\n",
    "\n",
    "# torch\n",
    "import torch\n",
    "device = torch.device(\"cuda:0\" if torch.cuda.is_available() else \"cpu\")\n",
    "\n",
    "\n",
    "from mvpb import MultiViewMajorityVoteLearner, MajorityVoteLearner\n",
    "from mvpb.util import uniform_distribution\n",
    "\n",
    "\n",
    "# Import data\n",
    "from data import (SampleData,\n",
    "                           Nhanes,\n",
    "                           MultipleFeatures,\n",
    "                           MNIST_MV_Datasets,\n",
    "                           Fash_MNIST_MV_Datasets,\n",
    "                           EMNIST_Letters_MV_Datasets,\n",
    "                           Mushrooms,\n",
    "                           PTB_XL_plus,\n",
    "                           Nutrimouse,\n",
    "                           ReutersEN,\n",
    "                           IS,\n",
    "                           CorelImageFeatures,\n",
    "                           NUS_WIDE_OBJECT,\n",
    "                           ALOI,\n",
    "                           train_test_split,\n",
    "                           train_test_merge,\n",
    "                           s1_s2_split,\n",
    "                           multiclass_to_binary,\n",
    "                           balance_dataset,\n",
    "                           other_binary_options,\n",
    "                           poison_dataset)"
   ]
  },
  {
   "cell_type": "markdown",
   "metadata": {},
   "source": [
    "# Load and prepare the multiview datasets"
   ]
  },
  {
   "cell_type": "code",
   "execution_count": 2,
   "metadata": {
    "tags": []
   },
   "outputs": [
    {
     "data": {
      "text/plain": [
       "(array([0, 1, 2, 3, 4, 5, 6, 7, 8, 9]), array([0, 1, 2, 3, 4, 5, 6, 7, 8, 9]))"
      ]
     },
     "execution_count": 2,
     "metadata": {},
     "output_type": "execute_result"
    }
   ],
   "source": [
    "dataset = MultipleFeatures()\n",
    "X_train, y_train, X_test, y_test = dataset.get_data()\n",
    "if isinstance(dataset, PTB_XL_plus):\n",
    "    real_classes = dataset.get_real_classes(np.unique(y_train))\n",
    "\n",
    "Xs_train = []\n",
    "Xs_test = []\n",
    "for xtr, xts in zip(X_train, X_test):\n",
    "    scaler = preprocessing.MinMaxScaler().fit(xtr)\n",
    "    Xs_train.append(scaler.transform(xtr))\n",
    "    Xs_test.append(scaler.transform(xts))\n",
    "\n",
    "X_train_concat = [np.concatenate(Xs_train, axis=1)]\n",
    "X_test_concat = [np.concatenate(Xs_test, axis=1)]\n",
    "\n",
    "np.unique(y_train), np.unique(y_test)"
   ]
  },
  {
   "cell_type": "code",
   "execution_count": 3,
   "metadata": {
    "tags": []
   },
   "outputs": [
    {
     "data": {
      "text/plain": [
       "((17436, 712), (17436,), (4359, 712), (4359,))"
      ]
     },
     "execution_count": 3,
     "metadata": {},
     "output_type": "execute_result"
    }
   ],
   "source": [
    "X_train[1].shape, y_train.shape, X_test[1].shape, y_test.shape"
   ]
  },
  {
   "cell_type": "code",
   "execution_count": 3,
   "metadata": {},
   "outputs": [
    {
     "data": {
      "text/plain": [
       "<Axes: xlabel='0'>"
      ]
     },
     "execution_count": 3,
     "metadata": {},
     "output_type": "execute_result"
    },
    {
     "data": {
      "image/png": "[encoded data removed]",
      "text/plain": [
       "<Figure size 640x480 with 1 Axes>"
      ]
     },
     "metadata": {},
     "output_type": "display_data"
    }
   ],
   "source": [
    "pd.DataFrame(y_train).value_counts().plot(kind=\"bar\")"
   ]
  },
  {
   "cell_type": "markdown",
   "metadata": {},
   "source": [
    "# Hyper-parameters setting"
   ]
  },
  {
   "cell_type": "code",
   "execution_count": 6,
   "metadata": {},
   "outputs": [],
   "source": [
    "RUNS = range(10)\n",
    "\n",
    "OPTIMIZE_LAMBDA_GAMMA = True\n",
    "ALPHA = [1, 0.5, 1.1, 2]\n",
    "# ALPHA = [1.1]\n",
    "MAX_ITER = 1000\n",
    "\n",
    "\n",
    "USE_DNDF = True\n",
    "stump_config = {\n",
    "    \"name\": \"stump\",\n",
    "    \"n_estimators\": 100,\n",
    "    \"max_depth\": 1,\n",
    "    \"max_features\": 0.5,\n",
    "}\n",
    "weak_learners_config = {\n",
    "    \"name\": \"weak_learner\",\n",
    "    \"n_estimators\": 100,\n",
    "    \"max_depth\": 3,\n",
    "    \"max_features\": 0.5,\n",
    "}\n",
    "strong_learners_config = {\n",
    "    \"name\": \"strong_learner\",\n",
    "    \"n_estimators\": 100,\n",
    "    \"max_depth\": 6,\n",
    "    \"max_features\": 0.8,\n",
    "}\n",
    "\n",
    "CFG = [stump_config, weak_learners_config, strong_learners_config]\n",
    "# CFG = [weak_learners_config]\n",
    "\n",
    "EPOCHS = 15\n",
    "\n",
    "TO_BINARY  = \"ovo\" # One of [\"ovr\", \"ovo\", \"other\",  None]\n",
    "label_1 = 4\n",
    "label_2 = 9\n",
    "\n",
    "POISON = False\n",
    "\n",
    "USE_UNLABELED = True\n",
    "s_labeled_sizes = [0.05, 0.1, 0.2, 0.3, 0.4, 0.5] if USE_UNLABELED else [1]\n",
    "# s_labeled_sizes = [0.05] if USE_UNLABELED else [0.1]\n",
    "\n",
    "BOUNDS = ['Uniform', 'PBkl', 'PBkl_inv', 'TND_DIS', 'TND_DIS_inv', 'TND', 'TND_inv', 'DIS', 'DIS_inv', 'Cbound', 'C_TND']\n",
    "# BOUNDS = ['TND_DIS', 'TND_DIS_inv']\n",
    "\n",
    "m = y_train.size #350\n",
    "test_size = 1 - (m  / (y_test.size+y_train.size))\n",
    "experiments = {}\n",
    "for s_labeled_size in s_labeled_sizes:\n",
    "    experiments[s_labeled_size] = {}\n",
    "    for alpha in ALPHA:\n",
    "        experiments[s_labeled_size][alpha] = {}\n",
    "        for cfg in CFG:\n",
    "            experiments[s_labeled_size][alpha][cfg[\"name\"]] = []"
   ]
  },
  {
   "cell_type": "code",
   "execution_count": 7,
   "metadata": {},
   "outputs": [
    {
     "data": {
      "text/plain": [
       "({0.05: {1: {'stump': [], 'weak_learner': [], 'strong_learner': []},\n",
       "   0.5: {'stump': [], 'weak_learner': [], 'strong_learner': []},\n",
       "   1.1: {'stump': [], 'weak_learner': [], 'strong_learner': []},\n",
       "   2: {'stump': [], 'weak_learner': [], 'strong_learner': []}},\n",
       "  0.1: {1: {'stump': [], 'weak_learner': [], 'strong_learner': []},\n",
       "   0.5: {'stump': [], 'weak_learner': [], 'strong_learner': []},\n",
       "   1.1: {'stump': [], 'weak_learner': [], 'strong_learner': []},\n",
       "   2: {'stump': [], 'weak_learner': [], 'strong_learner': []}},\n",
       "  0.2: {1: {'stump': [], 'weak_learner': [], 'strong_learner': []},\n",
       "   0.5: {'stump': [], 'weak_learner': [], 'strong_learner': []},\n",
       "   1.1: {'stump': [], 'weak_learner': [], 'strong_learner': []},\n",
       "   2: {'stump': [], 'weak_learner': [], 'strong_learner': []}},\n",
       "  0.3: {1: {'stump': [], 'weak_learner': [], 'strong_learner': []},\n",
       "   0.5: {'stump': [], 'weak_learner': [], 'strong_learner': []},\n",
       "   1.1: {'stump': [], 'weak_learner': [], 'strong_learner': []},\n",
       "   2: {'stump': [], 'weak_learner': [], 'strong_learner': []}},\n",
       "  0.4: {1: {'stump': [], 'weak_learner': [], 'strong_learner': []},\n",
       "   0.5: {'stump': [], 'weak_learner': [], 'strong_learner': []},\n",
       "   1.1: {'stump': [], 'weak_learner': [], 'strong_learner': []},\n",
       "   2: {'stump': [], 'weak_learner': [], 'strong_learner': []}},\n",
       "  0.5: {1: {'stump': [], 'weak_learner': [], 'strong_learner': []},\n",
       "   0.5: {'stump': [], 'weak_learner': [], 'strong_learner': []},\n",
       "   1.1: {'stump': [], 'weak_learner': [], 'strong_learner': []},\n",
       "   2: {'stump': [], 'weak_learner': [], 'strong_learner': []}}},\n",
       " 13)"
      ]
     },
     "execution_count": 7,
     "metadata": {},
     "output_type": "execute_result"
    }
   ],
   "source": [
    "experiments, label_1"
   ]
  },
  {
   "cell_type": "code",
   "execution_count": 8,
   "metadata": {},
   "outputs": [],
   "source": [
    "# if POISON:\n",
    "#     Xs_train, y_train = poison_dataset(Xs_train, y_train, poison_label=label_1, target_label=label_2, target_view=3, num_samples=4000)"
   ]
  },
  {
   "cell_type": "code",
   "execution_count": 9,
   "metadata": {},
   "outputs": [],
   "source": [
    "# Transform to binary OVR (One Vs Rest) or OVO (One Vs One) if needed\n",
    "if TO_BINARY == \"ovr\":\n",
    "    Xs_train, y_train, Xs_test, y_test = multiclass_to_binary(Xs_train, y_train, Xs_test, y_test, type=TO_BINARY, label_1=label_1)\n",
    "elif TO_BINARY == \"ovo\":\n",
    "    Xs_train, y_train, Xs_test, y_test = multiclass_to_binary(Xs_train, y_train, Xs_test, y_test, type=TO_BINARY, label_1=label_1, label_2=label_2)\n",
    "elif TO_BINARY == \"other\":\n",
    "    y_train, y_test = other_binary_options(dataset, y_train, y_test)\n",
    "else:\n",
    "    print(colored(f\"WARNING: TO_BINARY={TO_BINARY}, continuing\", 'yellow'))"
   ]
  },
  {
   "cell_type": "code",
   "execution_count": 10,
   "metadata": {},
   "outputs": [
    {
     "data": {
      "text/plain": [
       "(array([0, 1]), array([0, 1]))"
      ]
     },
     "execution_count": 10,
     "metadata": {},
     "output_type": "execute_result"
    }
   ],
   "source": [
    "np.unique(y_train), np.unique(y_test)"
   ]
  },
  {
   "cell_type": "code",
   "execution_count": 11,
   "metadata": {},
   "outputs": [
    {
     "data": {
      "text/plain": [
       "((14484, 712), (14484,), (4359, 712), (4359,))"
      ]
     },
     "execution_count": 11,
     "metadata": {},
     "output_type": "execute_result"
    }
   ],
   "source": [
    "Xs_train[1].shape, y_train.shape, Xs_test[1].shape, y_test.shape"
   ]
  },
  {
   "cell_type": "markdown",
   "metadata": {},
   "source": [
    "# Running experiments"
   ]
  },
  {
   "cell_type": "code",
   "execution_count": null,
   "metadata": {
    "tags": []
   },
   "outputs": [],
   "source": [
    "before_merge = (Xs_train, y_train, Xs_test, y_test)\n",
    "Xs, y = train_test_merge(Xs_train, y_train, Xs_test, y_test)\n",
    "os.makedirs(\"results\", exist_ok=True)\n",
    "    \n",
    "\n",
    "def metric_dict(mv_metric, v_metrics):\n",
    "    metric_dict = {f\"View{i+1}\": v_metrics[i] for i in range(len(v_metrics)-1)}\n",
    "    metric_dict.update({\"Concatenated\": v_metrics[-1]})\n",
    "    metric_dict.update({\"Multiview\": mv_metric})\n",
    "    return metric_dict\n",
    "\n",
    "# iterate over the labeled data sizes #\n",
    "for i, s1_size in enumerate(s_labeled_sizes):\n",
    "    print(colored(f\"############ Using {s1_size*100}% labeled data ############\", 'black', on_color='on_blue'))\n",
    "    s_labeled_dir = 'results'+f\"/s_labeled-{int(s1_size*100)}\"\n",
    "    os.makedirs(s_labeled_dir, exist_ok=True)\n",
    "### iterate over the alpha values ###\n",
    "    \n",
    "    for j, alpha in enumerate(ALPHA):\n",
    "        print(colored(f\"\\t############ Using {alpha=} ############\", 'black', on_color='on_blue'))\n",
    "        alpha_dir = s_labeled_dir+ f\"/alpha-{alpha}\"\n",
    "        os.makedirs(alpha_dir, exist_ok=True)\n",
    "        \n",
    "#### iterate over the configurations ####\n",
    "        for k, config in enumerate(CFG):\n",
    "            print(colored(f\"\\t\\t############ Using {config['name']} ############\", 'black', on_color='on_blue'))\n",
    "            for run in RUNS:\n",
    "                print(colored(f\"\\n----------------Run {run+1}---------------\", 'blue'))\n",
    "\n",
    "                # Shuffle and split the dataset into training and testing\n",
    "                # if not dataset.split:\n",
    "                Xs_train, y_train, Xs_test, y_test = train_test_split(Xs, y, test_size=test_size, random_state=run*(i+1)*(j+1)*(k+1))\n",
    "                # else:\n",
    "                # Xs_train, y_train, Xs_test, y_test = before_merge\n",
    "\n",
    "                # Split the dataset into labeled and unlabeled\n",
    "                Xs_train, y_train, UlX, _ = s1_s2_split(Xs_train, y_train, s1_size=s1_size, random_state=run*(i+1)*(j+1)*(k+1))\n",
    "                X_train_concat = np.concatenate(Xs_train, axis=1)\n",
    "                X_test_concat = np.concatenate(Xs_test, axis=1)\n",
    "                    \n",
    "                # instantiate multiview dNDF classifier\n",
    "                dNDF_mv = MultiViewMajorityVoteLearner(nb_estimators=config[\"n_estimators\"],\n",
    "                                                        nb_views=len(Xs_train),\n",
    "                                                        depth =config[\"max_depth\"],\n",
    "                                                        used_feature_rate=config[\"max_features\"],\n",
    "                                                        random_state=run,\n",
    "                                                        epochs=EPOCHS,\n",
    "                                                        use_dndf=USE_DNDF)\n",
    "                \n",
    "                # instantiate dNDF classifier for separate views and concatenated view\n",
    "                dNDF_per_view = []\n",
    "                for v in range(len(Xs_train)+1):\n",
    "                    dNDF_per_view.append(MajorityVoteLearner(nb_estimators=config[\"n_estimators\"],\n",
    "                                                            depth =config[\"max_depth\"],\n",
    "                                                            used_feature_rate=config[\"max_features\"],\n",
    "                                                            random_state=run,\n",
    "                                                            epochs=EPOCHS,\n",
    "                                                            use_dndf=USE_DNDF))\n",
    "                \n",
    "                print(\"Training multiview classifier-------------------------------\")\n",
    "                dNDF_mv = dNDF_mv.fit(Xs_train, y_train)\n",
    "                \n",
    "                print(\"Training separate views classifiers-------------------------------\")\n",
    "                for v in range(len(Xs_train)):\n",
    "                    dNDF_per_view[v] = dNDF_per_view[v].fit(Xs_train[v], y_train)\n",
    "\n",
    "                print(\"Training concatenated view classifier-------------------------------\")\n",
    "                dNDF_per_view[-1] = dNDF_per_view[-1].fit(X_train_concat, y_train)\n",
    "                \n",
    "                \n",
    "                # Optimize the posterior distributions for the each bound\n",
    "                for bound in BOUNDS:\n",
    "                    # Clear the posteriors (reset to uniform distribution)\n",
    "                    dNDF_mv.clear_posteriors()\n",
    "                    for v in range(len(Xs_train)+1):\n",
    "                        dNDF_per_view[v].clear_posteriors()\n",
    "                    \n",
    "                    # use the unlabeled data for DIS\n",
    "                    unlabeled_data, c_unlabeled_data = None, None\n",
    "                    if USE_UNLABELED and bound in ['DIS', 'DIS_inv', 'TND_DIS', 'TND_DIS_inv',]:\n",
    "                        unlabeled_data = UlX\n",
    "                        c_unlabeled_data = np.concatenate(UlX, axis=1)\n",
    "                    \n",
    "                    if bound == \"Uniform\":\n",
    "                        posterior_Qv = dNDF_mv.posterior_Qv\n",
    "                        posterior_rho = dNDF_mv.posterior_rho\n",
    "                        posterior_Qs = [dNDF_per_view[v].posterior_Q.tolist() for v in range(len(dNDF_per_view))]\n",
    "                    else:\n",
    "                        _, gibbs_risk, _ = dNDF_mv.mv_risk((Xs_train, y_train), incl_oob=False)\n",
    "                        print(f\"### Multiview classifier gibbs risk before Optim: {gibbs_risk}\")\n",
    "                        print(colored(f\"Optimizing {bound} for multiview classifier-------------------------------\", 'green'))\n",
    "                        prev_time = datetime.now()\n",
    "                        posterior_Qv , posterior_rho = dNDF_mv.optimize_rho(bound,\n",
    "                                                                            labeled_data=(Xs_train, y_train),\n",
    "                                                                            unlabeled_data=unlabeled_data,\n",
    "                                                                            incl_oob=False,\n",
    "                                                                            max_iter=MAX_ITER,\n",
    "                                                                            optimise_lambda_gamma=OPTIMIZE_LAMBDA_GAMMA,\n",
    "                                                                            alpha=alpha)\n",
    "                        print(colored(f\"Optimization took {datetime.now() - prev_time} -------------------------------\", 'yellow'))\n",
    "                        \n",
    "                        print(colored(f\"Optimizing {bound} for separate views classifiers-------------------------------\", 'green'))\n",
    "                        posterior_Qs = []\n",
    "                        for v in range(len(Xs_train)):\n",
    "                            posterior_Q = dNDF_per_view[v].optimize_Q(bound,\n",
    "                                                                            labeled_data=(Xs_train[v], y_train),\n",
    "                                                                            unlabeled_data=unlabeled_data[v] if unlabeled_data else None,\n",
    "                                                                            incl_oob=False,\n",
    "                                                                            max_iter=MAX_ITER,\n",
    "                                                                            optimise_lambda_gamma=OPTIMIZE_LAMBDA_GAMMA,\n",
    "                                                                            alpha=1)\n",
    "                            posterior_Qs.append(posterior_Q.tolist())\n",
    "                        print(colored(f\"Optimizing {bound} for concatenated classifier-------------------------------\", 'green'))\n",
    "                        posterior_Q_concat = dNDF_per_view[-1].optimize_Q(bound,\n",
    "                                                                            labeled_data=(X_train_concat, y_train),\n",
    "                                                                            unlabeled_data=c_unlabeled_data,\n",
    "                                                                            incl_oob=False,\n",
    "                                                                            max_iter=MAX_ITER,\n",
    "                                                                            optimise_lambda_gamma=OPTIMIZE_LAMBDA_GAMMA,\n",
    "                                                                            alpha=1)\n",
    "                        posterior_Qs.append(posterior_Q_concat.tolist())\n",
    "                        \n",
    "                        _, gibbs_riska, _ = dNDF_mv.mv_risk((Xs_train, y_train), incl_oob=False)\n",
    "                        print(f\"### Multiview classifier gibbs risk after Optim: {gibbs_riska}\")\n",
    "                        # Compute the bound for the multiview classifier\n",
    "                        print(colored(f\"Optimization is done! -------------------------------\", 'green'))\n",
    "                    \n",
    "                    print(colored(f\"Computing the bound values ans risks -------------------------------\", 'green'))\n",
    "                    mv_bound, mv_grisk, mv_eS, mv_dS, mv_klqp, klrpi, ng, _, nd = dNDF_mv.bound(\n",
    "                                        bound=bound,\n",
    "                                        labeled_data=(Xs_train, y_train),\n",
    "                                        unlabeled_data=unlabeled_data,\n",
    "                                        incl_oob=False,\n",
    "                                        alpha=alpha)\n",
    "                    # Compute the risk of the multiview classifier\n",
    "                    P, mv_risk = dNDF_mv.predict_MV(Xs_test, y_test)\n",
    "                    \n",
    "                    # Compute the bounds and risks for the separate views classifiers\n",
    "                    v_bounds = []\n",
    "                    v_grisks = []\n",
    "                    v_eSs = []\n",
    "                    v_dSs = []\n",
    "                    v_klqps = []\n",
    "                    for v in range(len(Xs_test)+1):\n",
    "                        if v == len(Xs_test):\n",
    "                            # Compute the bound for the concatenated view\n",
    "                            concat_bound, grisk, eS, dS, klqp, _, _, _ = dNDF_per_view[v].bound(\n",
    "                                        bound=bound,\n",
    "                                        labeled_data=(X_train_concat, y_train),\n",
    "                                        unlabeled_data=c_unlabeled_data,\n",
    "                                        incl_oob=False,\n",
    "                                        alpha=1)\n",
    "                            v_bounds.append(concat_bound)\n",
    "                        else:\n",
    "                            # Compute the bound for the separate views\n",
    "                            v_bound, grisk, eS, dS, klqp, _, _, _ = dNDF_per_view[v].bound(\n",
    "                                            bound=bound,\n",
    "                                            labeled_data=(Xs_train[v], y_train),\n",
    "                                            unlabeled_data=unlabeled_data[v] if unlabeled_data else None,\n",
    "                                            incl_oob=False,\n",
    "                                            alpha=1)\n",
    "                            v_bounds.append(v_bound)\n",
    "                        v_grisks.append(grisk)\n",
    "                        v_eSs.append(eS)\n",
    "                        v_dSs.append(dS)\n",
    "                        v_klqps.append(klqp)\n",
    "                    \n",
    "                    v_risks = [dNDF_per_view[v].predict(Xs_test[v], y_test)[1] for v in range(len(Xs_test))]\n",
    "                    v_risks.append(dNDF_per_view[-1].predict(X_test_concat, y_test)[1])\n",
    "                    # print(f\"{dNDF_mv.posterior_Qv=} {dNDF_mv.posterior_rho=}\")\n",
    "                    \n",
    "\n",
    "                    # Save the results\n",
    "                    print(colored(f\"Entering save and stats zone-------------------------------\", 'green'))\n",
    "                    views_risks = metric_dict(mv_risk, v_risks)\n",
    "                    views_gibbs_risks = metric_dict(mv_grisk, v_grisks)\n",
    "                    views_eSs = metric_dict(mv_eS, v_eSs)\n",
    "                    views_dSs = metric_dict(mv_dS, v_dSs)\n",
    "                    views_bounds = metric_dict(mv_bound, v_bounds)\n",
    "                    views_klqps = metric_dict(mv_klqp, v_klqps)\n",
    "                    views_kl_rhopi = metric_dict(klrpi, [np.nan for _ in range(len(Xs_test)+1)])\n",
    "                    \n",
    "                    list_posterior_Qv = [q.tolist() for q in posterior_Qv]\n",
    "                    rounded_posterior_Qv = [[\"{:.9f}\".format(q) for q in Q] for Q in list_posterior_Qv]\n",
    "                    rounded_posterior_rho = [\"{:.9f}\".format(rho) for rho in posterior_rho.tolist()]\n",
    "                    rounded_posterior_Qs = [[\"{:.9f}\".format(q) for q in Q] for Q in posterior_Qs]\n",
    "                    views_posterior_Qs = metric_dict(rounded_posterior_Qv, rounded_posterior_Qs)\n",
    "                    views_posterior_rho = metric_dict(rounded_posterior_rho, [np.nan for _ in range(len(Xs_test)+1)])\n",
    "                    \n",
    "                    \n",
    "                    assert len(views_risks) == len(views_bounds)\n",
    "                    assert len(views_risks) == len(views_gibbs_risks) and len(views_risks) == len(views_eSs)\n",
    "                    assert len(views_dSs) == len(views_eSs)\n",
    "                    \n",
    "                    for (kr, r), (kb, b) in zip(views_risks.items(), views_bounds.items()):\n",
    "                        assert kr == kb # check if the keys are the same\n",
    "                        exp = {\"Run\": run+1, \n",
    "                            \"Bound_name\": bound, \n",
    "                            \"View\": kr, \n",
    "                            \"Risk\": \"{:.3f}\".format(r),\n",
    "                            \"Gibbs_Risk\": \"{:.3f}\".format(views_gibbs_risks[kr]),\n",
    "                            \"Bound\": \"{:.3f}\".format(b),\n",
    "                            \"Join_Error\": \"{:.3f}\".format(views_eSs[kr]),\n",
    "                            \"Disagreement\": \"{:.3f}\".format(views_dSs[kr]),\n",
    "                            \"KL_QP\": \"{:.3f}\".format(views_klqps[kr]),\n",
    "                            \"KL_RhoPi\": \"{:.3f}\".format(views_kl_rhopi[kr]),\n",
    "                            \"n_labeled\": ng,\n",
    "                            \"n_all\": nd,\n",
    "                            \"Posterior_Qv\": views_posterior_Qs[kr],\n",
    "                            \"Posterior_rho\": views_posterior_rho[kr]}\n",
    "                        experiments[s1_size][alpha][config[\"name\"]].append(exp)\n",
    "                    # TODO: add the posterior_Qv and posterior_rho to the experiment\n",
    "                # del dNDF_mv, dNDF_per_view\n",
    "                \n",
    "            cfg_dir = alpha_dir + \"/\" + config[\"name\"]\n",
    "            os.makedirs(cfg_dir, exist_ok=True)\n",
    "            experiment_df = pd.DataFrame(experiments[s1_size][alpha][config[\"name\"]])\n",
    "            # example: results/s_labeled-5/alpha-1/stump/MNIST_4vs9_20runs.csv\n",
    "            file_name = f\"{cfg_dir}/{dataset._name}_{label_1}vs{label_2}_{len(RUNS)}runs.csv\"\n",
    "            experiment_df.to_csv(file_name, sep=\" \", index=False)"
   ]
  },
  {
   "cell_type": "markdown",
   "metadata": {},
   "source": [
    "#### Duplicating the results (not necessary) "
   ]
  },
  {
   "cell_type": "code",
   "execution_count": null,
   "metadata": {},
   "outputs": [],
   "source": [
    "os.makedirs(\"results-dup\", exist_ok=True)\n",
    "\n",
    "for s_labeled_size, size_exp in experiments.items():\n",
    "    s_labeled_dir = 'results-dup'+f\"/s_labeled-{int(s_labeled_size*100)}\"\n",
    "    os.makedirs(s_labeled_dir, exist_ok=True)\n",
    "    for alpha, alpha_exp in size_exp.items():\n",
    "        alpha_dir = s_labeled_dir+ f\"/alpha-{alpha}\"\n",
    "        os.makedirs(alpha_dir, exist_ok=True)\n",
    "        for cfg, cfg_exp in alpha_exp.items():\n",
    "            if cfg_exp == []:\n",
    "                continue\n",
    "            cfg_dir = alpha_dir + \"/\" + cfg\n",
    "            os.makedirs(cfg_dir, exist_ok=True)\n",
    "            experiment_df = pd.DataFrame(cfg_exp)\n",
    "            # example: results-dup/s_labeled-5/alpha-1/stump/MNIST_4vs9_20runs.csv\n",
    "            file_name = f\"{cfg_dir}/{dataset._name}_{label_1}vs{label_2}_{len(RUNS)}runs.csv\"\n",
    "            experiment_df.to_csv(file_name, sep=\" \", index=False)\n"
   ]
  },
  {
   "cell_type": "code",
   "execution_count": null,
   "metadata": {},
   "outputs": [],
   "source": [
    "df = pd.DataFrame(experiments[0.05][1.1][\"weak_learner\"])\n",
    "df[\"Risk\"] = df[\"Risk\"].astype(float)\n",
    "df[\"Bound\"] = df[\"Bound\"].astype(float)\n",
    "# df['Bound'] = df['Bound'].apply(lambda x: x[0] if isinstance(x, (list, np.ndarray)) else x)\n",
    "# df['Risk'] = df['Risk'].apply(lambda x: x[0] if isinstance(x, (list, np.ndarray)) else x)\n",
    "df.head(20)"
   ]
  },
  {
   "cell_type": "code",
   "execution_count": null,
   "metadata": {},
   "outputs": [],
   "source": [
    "df[df[\"Risk\"] > df[\"Bound\"]]"
   ]
  },
  {
   "cell_type": "code",
   "execution_count": null,
   "metadata": {},
   "outputs": [],
   "source": [
    "# agg_df = df.groupby([\"Bound_name\", \"View\"]).mean()\n",
    "# agg_df"
   ]
  },
  {
   "cell_type": "markdown",
   "metadata": {},
   "source": [
    "# Plot the data (use the plot.ipynb notebook it's well structured)"
   ]
  },
  {
   "cell_type": "code",
   "execution_count": null,
   "metadata": {},
   "outputs": [],
   "source": [
    "def plot_results_grid(exps, m, runs=len(RUNS), bounds=BOUNDS):\n",
    "\n",
    "    sns.set_style(style=\"ticks\")\n",
    "    bounds_palette = sns.color_palette(\"viridis\", n_colors=len(bounds))\n",
    "    risk_palette = sns.color_palette(\"flare\", n_colors=len(bounds))\n",
    "    risk_palette.reverse()\n",
    "\n",
    "    num_views = len(exps['View'].unique())\n",
    "    num_cols = num_views // 2 + num_views % 2  # Calculate number of columns for subplots\n",
    "\n",
    "    fig, ax = plt.subplots(2, num_cols, figsize=(14, 10), sharey=True)\n",
    "\n",
    "    for i, view in enumerate(exps['View'].unique()):\n",
    "        view_data = exps[exps['View'] == view]\n",
    "        row = i // num_cols\n",
    "        col = i % num_cols\n",
    "        \n",
    "        risk = view_data.groupby([\"Bound_name\", \"View\"])['Risk'].mean()\n",
    "        # mean_risk = risk.median()\n",
    "        # up_risk = mean_risk+risk.std()\n",
    "        # lw_risk = mean_risk-risk.std()\n",
    "        # print(mean_risk, up_risk, lw_risk)\n",
    "        # Plot Bound\n",
    "        sns.barplot(x='Bound_name', y='Bound', data=view_data, ax=ax[row, col], hue='Bound_name', hatch='.', palette=bounds_palette)        # Create a horizontal line at the median risk\n",
    "        sns.barplot(x='Bound_name', y='Risk', data=view_data, ax=ax[row, col], hue='Bound_name', hatch='\\\\', palette=risk_palette)\n",
    "\n",
    "        # ax[row, col].axhline(y=up_risk, color='b', linestyle='-', label='Q3 Risk')\n",
    "        # ax[row, col].axhline(y=lw_risk, color='r', linestyle='--', label='Median Risk')\n",
    "        # ax[row, col].axhline(y=mean_risk, color='g', linestyle='-', label='Q1 Risk')\n",
    "        ax[row, col].set_title(f'{view}')\n",
    "        ax[row, col].set_xlabel('Bounds')\n",
    "        ax[row, col].set_ylabel('Means')\n",
    "        plt.setp( ax[row, col].xaxis.get_majorticklabels(), rotation=70 )\n",
    "\n",
    "        \n",
    "\n",
    "    # handles, labels = ax[0,0].get_legend_handles_labels()\n",
    "    # labels = [labels[i]+\" bound\" if i < len(labels)/2 else labels[i]+\" Gibbs risk\" for i in range(len(labels))]\n",
    "    # ax[0, 0].legend(handles, labels, title='Bounds', loc='upper right', fontsize='medium')\n",
    "    fig.suptitle(f'Test error rates and multiview PAC-Bayesian bound values, {m=},\\naveraged over {runs} runs')\n",
    "    fig.tight_layout()\n",
    "    plt.show()"
   ]
  },
  {
   "cell_type": "code",
   "execution_count": null,
   "metadata": {},
   "outputs": [],
   "source": [
    "plot_results_grid(df, len(Xs_train[0]))"
   ]
  },
  {
   "cell_type": "code",
   "execution_count": null,
   "metadata": {},
   "outputs": [],
   "source": [
    "posterior_rho\n",
    "sns.heatmap(posterior_Qv, fmt=\".2f\", cmap='viridis')"
   ]
  },
  {
   "cell_type": "code",
   "execution_count": null,
   "metadata": {},
   "outputs": [],
   "source": [
    "def plot_results(experiments, m, runs=len(RUNS), bounds=BOUNDS):\n",
    "    sns.set_style(style=\"ticks\")\n",
    "    bounds_palette = sns.mpl_palette(\"viridis\", n_colors=len(bounds))\n",
    "    risk_palette = sns.color_palette(\"flare\", n_colors=len(bounds))\n",
    "    risk_palette.reverse()\n",
    "    \n",
    "    ax = sns.barplot(experiments, x='View', hue='Bound_name', y='Bound', errorbar=\"sd\", width=0.8, hatch='.', palette=bounds_palette)\n",
    "    ax = sns.barplot(experiments, x='View', hue='Bound_name', y='Risk', errorbar=\"sd\", width=0.8, hatch='\\\\', palette=risk_palette)\n",
    "\n",
    "    plt.title(f'Test error rates and multiview PAC-Bayesian bound values, {m=},\\naveraged over {runs} runs')\n",
    "    plt.xlabel('Views')\n",
    "    plt.ylabel('Means')\n",
    "    \n",
    "    handles, labels = ax.get_legend_handles_labels()\n",
    "    labels = [labels[i]+\" bound\" if i < len(labels)/2 else labels[i]+\" Gibbs risk\" for i in range(len(labels))]\n",
    "\n",
    "    # Creating a unified legend for both plots\n",
    "    plt.legend(handles, labels, title=\"Bounds and risks\", loc='upper right', fontsize='medium')\n",
    "    plt.tight_layout() \n",
    "    plt.gcf().set_size_inches(24, 12)\n",
    "    plt.show()"
   ]
  },
  {
   "cell_type": "code",
   "execution_count": null,
   "metadata": {},
   "outputs": [],
   "source": [
    "plot_results(df, len(Xs_train[0]))"
   ]
  },
  {
   "cell_type": "code",
   "execution_count": null,
   "metadata": {},
   "outputs": [],
   "source": []
  }
 ],
 "metadata": {
  "kernelspec": {
   "display_name": "Python [conda env:base] *",
   "language": "python",
   "name": "conda-base-py"
  },
  "language_info": {
   "codemirror_mode": {
    "name": "ipython",
    "version": 3
   },
   "file_extension": ".py",
   "mimetype": "text/x-python",
   "name": "python",
   "nbconvert_exporter": "python",
   "pygments_lexer": "ipython3",
   "version": "3.11.9"
  }
 },
 "nbformat": 4,
 "nbformat_minor": 4
}
