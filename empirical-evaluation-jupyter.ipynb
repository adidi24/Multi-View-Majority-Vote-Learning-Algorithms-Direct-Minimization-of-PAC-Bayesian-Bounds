{
 "cells": [
  {
   "cell_type": "markdown",
   "metadata": {},
   "source": [
    "# Multi-View-Majority-Vote-Learning-Algorithms-Direct-Minimization-of-PAC-Bayesian-Bounds"
   ]
  },
  {
   "cell_type": "code",
   "execution_count": 1,
   "metadata": {},
   "outputs": [],
   "source": [
    "import numpy as np\n",
    "from sklearn.utils import check_random_state\n",
    "from sklearn.preprocessing import MinMaxScaler\n",
    "RAND = check_random_state(42)\n",
    "import torch\n",
    "import torch.nn as nn\n",
    "from torch.autograd import Variable\n",
    "from torch.nn.parameter import Parameter\n",
    "from collections import OrderedDict\n",
    "import torch.nn.functional as F\n",
    "from torch.utils.data import DataLoader,Dataset\n",
    "from mvlearn.datasets import load_UCImultifeature\n",
    "device = torch.device(\"cuda:0\" if torch.cuda.is_available() else \"cpu\")\n",
    "\n",
    "\n",
    "from dNDF import MultiViewBoundsDeepNeuralDecisionForests\n",
    "\n",
    "\n",
    "from mvb import RandomForestClassifier as RFC\n",
    "\n",
    "\n",
    "# Multi-view dataset : Nhanes 4 views https://wwwn.cdc.gov/nchs/nhanes/continuousnhanes/overview.aspx?BeginYear=2017\n",
    "from data.datasets import (Nhanes, \n",
    "                           train_test_split,\n",
    "                           train_test_merge)"
   ]
  },
  {
   "cell_type": "code",
   "execution_count": 2,
   "metadata": {},
   "outputs": [
    {
     "data": {
      "text/plain": [
       "array([0., 1., 2., 3., 4., 5., 6., 7., 8., 9.])"
      ]
     },
     "execution_count": 2,
     "metadata": {},
     "output_type": "execute_result"
    }
   ],
   "source": [
    "mv_data, labels = load_UCImultifeature()\n",
    "np.unique(labels)"
   ]
  },
  {
   "cell_type": "code",
   "execution_count": 3,
   "metadata": {},
   "outputs": [],
   "source": [
    "scaler = MinMaxScaler()\n",
    "for i in range(len(mv_data)):\n",
    "    mv_data[i] = scaler.fit_transform(mv_data[i])"
   ]
  },
  {
   "cell_type": "code",
   "execution_count": 4,
   "metadata": {},
   "outputs": [],
   "source": [
    "mvb = MultiViewBoundsDeepNeuralDecisionForests(nb_estimators=3, nb_views=len(mv_data), depth =3,used_feature_rate=0.8)"
   ]
  },
  {
   "cell_type": "code",
   "execution_count": 5,
   "metadata": {},
   "outputs": [
    {
     "data": {
      "text/html": [
       "<style>#sk-container-id-1 {color: black;}#sk-container-id-1 pre{padding: 0;}#sk-container-id-1 div.sk-toggleable {background-color: white;}#sk-container-id-1 label.sk-toggleable__label {cursor: pointer;display: block;width: 100%;margin-bottom: 0;padding: 0.3em;box-sizing: border-box;text-align: center;}#sk-container-id-1 label.sk-toggleable__label-arrow:before {content: \"▸\";float: left;margin-right: 0.25em;color: #696969;}#sk-container-id-1 label.sk-toggleable__label-arrow:hover:before {color: black;}#sk-container-id-1 div.sk-estimator:hover label.sk-toggleable__label-arrow:before {color: black;}#sk-container-id-1 div.sk-toggleable__content {max-height: 0;max-width: 0;overflow: hidden;text-align: left;background-color: #f0f8ff;}#sk-container-id-1 div.sk-toggleable__content pre {margin: 0.2em;color: black;border-radius: 0.25em;background-color: #f0f8ff;}#sk-container-id-1 input.sk-toggleable__control:checked~div.sk-toggleable__content {max-height: 200px;max-width: 100%;overflow: auto;}#sk-container-id-1 input.sk-toggleable__control:checked~label.sk-toggleable__label-arrow:before {content: \"▾\";}#sk-container-id-1 div.sk-estimator input.sk-toggleable__control:checked~label.sk-toggleable__label {background-color: #d4ebff;}#sk-container-id-1 div.sk-label input.sk-toggleable__control:checked~label.sk-toggleable__label {background-color: #d4ebff;}#sk-container-id-1 input.sk-hidden--visually {border: 0;clip: rect(1px 1px 1px 1px);clip: rect(1px, 1px, 1px, 1px);height: 1px;margin: -1px;overflow: hidden;padding: 0;position: absolute;width: 1px;}#sk-container-id-1 div.sk-estimator {font-family: monospace;background-color: #f0f8ff;border: 1px dotted black;border-radius: 0.25em;box-sizing: border-box;margin-bottom: 0.5em;}#sk-container-id-1 div.sk-estimator:hover {background-color: #d4ebff;}#sk-container-id-1 div.sk-parallel-item::after {content: \"\";width: 100%;border-bottom: 1px solid gray;flex-grow: 1;}#sk-container-id-1 div.sk-label:hover label.sk-toggleable__label {background-color: #d4ebff;}#sk-container-id-1 div.sk-serial::before {content: \"\";position: absolute;border-left: 1px solid gray;box-sizing: border-box;top: 0;bottom: 0;left: 50%;z-index: 0;}#sk-container-id-1 div.sk-serial {display: flex;flex-direction: column;align-items: center;background-color: white;padding-right: 0.2em;padding-left: 0.2em;position: relative;}#sk-container-id-1 div.sk-item {position: relative;z-index: 1;}#sk-container-id-1 div.sk-parallel {display: flex;align-items: stretch;justify-content: center;background-color: white;position: relative;}#sk-container-id-1 div.sk-item::before, #sk-container-id-1 div.sk-parallel-item::before {content: \"\";position: absolute;border-left: 1px solid gray;box-sizing: border-box;top: 0;bottom: 0;left: 50%;z-index: -1;}#sk-container-id-1 div.sk-parallel-item {display: flex;flex-direction: column;z-index: 1;position: relative;background-color: white;}#sk-container-id-1 div.sk-parallel-item:first-child::after {align-self: flex-end;width: 50%;}#sk-container-id-1 div.sk-parallel-item:last-child::after {align-self: flex-start;width: 50%;}#sk-container-id-1 div.sk-parallel-item:only-child::after {width: 0;}#sk-container-id-1 div.sk-dashed-wrapped {border: 1px dashed gray;margin: 0 0.4em 0.5em 0.4em;box-sizing: border-box;padding-bottom: 0.4em;background-color: white;}#sk-container-id-1 div.sk-label label {font-family: monospace;font-weight: bold;display: inline-block;line-height: 1.2em;}#sk-container-id-1 div.sk-label-container {text-align: center;}#sk-container-id-1 div.sk-container {/* jupyter's `normalize.less` sets `[hidden] { display: none; }` but bootstrap.min.css set `[hidden] { display: none !important; }` so we also need the `!important` here to be able to override the default hidden behavior on the sphinx rendered scikit-learn.org. See: https://github.com/scikit-learn/scikit-learn/issues/21755 */display: inline-block !important;position: relative;}#sk-container-id-1 div.sk-text-repr-fallback {display: none;}</style><div id=\"sk-container-id-1\" class=\"sk-top-container\"><div class=\"sk-text-repr-fallback\"><pre>MultiViewBoundsDeepNeuralDecisionForests(depth=3, nb_estimators=3, nb_views=6,\n",
       "                                         posterior=array([0.33333333, 0.33333333, 0.33333333]),\n",
       "                                         used_feature_rate=0.8)</pre><b>In a Jupyter environment, please rerun this cell to show the HTML representation or trust the notebook. <br />On GitHub, the HTML representation is unable to render, please try loading this page with nbviewer.org.</b></div><div class=\"sk-container\" hidden><div class=\"sk-item\"><div class=\"sk-estimator sk-toggleable\"><input class=\"sk-toggleable__control sk-hidden--visually\" id=\"sk-estimator-id-1\" type=\"checkbox\" checked><label for=\"sk-estimator-id-1\" class=\"sk-toggleable__label sk-toggleable__label-arrow\">MultiViewBoundsDeepNeuralDecisionForests</label><div class=\"sk-toggleable__content\"><pre>MultiViewBoundsDeepNeuralDecisionForests(depth=3, nb_estimators=3, nb_views=6,\n",
       "                                         posterior=array([0.33333333, 0.33333333, 0.33333333]),\n",
       "                                         used_feature_rate=0.8)</pre></div></div></div></div></div>"
      ],
      "text/plain": [
       "MultiViewBoundsDeepNeuralDecisionForests(depth=3, nb_estimators=3, nb_views=6,\n",
       "                                         posterior=array([0.33333333, 0.33333333, 0.33333333]),\n",
       "                                         used_feature_rate=0.8)"
      ]
     },
     "execution_count": 5,
     "metadata": {},
     "output_type": "execute_result"
    }
   ],
   "source": [
    "mvb.fit(mv_data,labels)"
   ]
  },
  {
   "cell_type": "code",
   "execution_count": 6,
   "metadata": {},
   "outputs": [
    {
     "name": "stdout",
     "output_type": "stream",
     "text": [
      "[[0.61780105 0.60645161 0.52574526]\n",
      " [0.71774194 0.53825503 0.46473029]\n",
      " [0.64931507 0.64323607 0.46311475]\n",
      " [0.43265306 0.37061995 0.26387009]\n",
      " [0.42496494 0.33149171 0.36351531]\n",
      " [0.4973262  0.44966443 0.52168022]]\n",
      "Bound: tensor(1.0065, dtype=torch.float64, grad_fn=<AddBackward0>)\n",
      "Upd: tensor(1.0065, dtype=torch.float64, grad_fn=<AddBackward0>)\n",
      "Différence: tensor(2.0000e-09, dtype=torch.float64, grad_fn=<SubBackward0>)\n",
      "Parameter containing:\n",
      "tensor([0.3333, 0.3333, 0.3333], requires_grad=True)\n",
      "Parameter containing:\n",
      "tensor([0.1667, 0.1667, 0.1667, 0.1667, 0.1667, 0.1667], requires_grad=True)\n",
      "Avant normalisation et clampage: Parameter containing:\n",
      "tensor([0.3332, 0.3332, 0.3332], requires_grad=True)\n",
      "Avant normalisation et clampage: Parameter containing:\n",
      "tensor([0.3332, 0.3332, 0.3333], requires_grad=True)\n",
      "Avant normalisation et clampage: Parameter containing:\n",
      "tensor([0.3332, 0.3332, 0.3333], requires_grad=True)\n",
      "Avant normalisation et clampage: Parameter containing:\n",
      "tensor([0.3333, 0.3333, 0.3333], requires_grad=True)\n",
      "Avant normalisation et clampage: Parameter containing:\n",
      "tensor([0.3333, 0.3333, 0.3333], requires_grad=True)\n",
      "Avant normalisation et clampage: Parameter containing:\n",
      "tensor([0.3333, 0.3333, 0.3332], requires_grad=True)\n",
      "Parameter containing:\n",
      "tensor([0.3333, 0.3333, 0.3333], requires_grad=True)\n",
      "Parameter containing:\n",
      "tensor([0.1666, 0.1666, 0.1666, 0.1668, 0.1668, 0.1667], requires_grad=True)\n",
      "Avant normalisation et clampage: Parameter containing:\n",
      "tensor([0.3331, 0.3331, 0.3332], requires_grad=True)\n",
      "Avant normalisation et clampage: Parameter containing:\n",
      "tensor([0.3331, 0.3332, 0.3332], requires_grad=True)\n",
      "Avant normalisation et clampage: Parameter containing:\n",
      "tensor([0.3331, 0.3331, 0.3332], requires_grad=True)\n",
      "Avant normalisation et clampage: Parameter containing:\n",
      "tensor([0.3332, 0.3332, 0.3333], requires_grad=True)\n",
      "Avant normalisation et clampage: Parameter containing:\n",
      "tensor([0.3332, 0.3332, 0.3332], requires_grad=True)\n",
      "Avant normalisation et clampage: Parameter containing:\n",
      "tensor([0.3332, 0.3332, 0.3332], requires_grad=True)\n"
     ]
    }
   ],
   "source": [
    "posterior_Qv , posterior_rho = mvb.optimize_rho('Lambda',delta=0.05, eps=10**-9)"
   ]
  },
  {
   "cell_type": "code",
   "execution_count": 7,
   "metadata": {},
   "outputs": [
    {
     "name": "stdout",
     "output_type": "stream",
     "text": [
      "Parameter containing:\n",
      "tensor([0.3333, 0.3333, 0.3334], requires_grad=True)\n",
      "Parameter containing:\n",
      "tensor([0.3333, 0.3334, 0.3334], requires_grad=True)\n",
      "Parameter containing:\n",
      "tensor([0.3333, 0.3333, 0.3334], requires_grad=True)\n",
      "Parameter containing:\n",
      "tensor([0.3333, 0.3333, 0.3334], requires_grad=True)\n",
      "Parameter containing:\n",
      "tensor([0.3333, 0.3334, 0.3333], requires_grad=True)\n",
      "Parameter containing:\n",
      "tensor([0.3333, 0.3334, 0.3333], requires_grad=True)\n"
     ]
    }
   ],
   "source": [
    "print(posterior_Qv[0])\n",
    "print(posterior_Qv[1])\n",
    "print(posterior_Qv[2])\n",
    "print(posterior_Qv[3])\n",
    "print(posterior_Qv[4])\n",
    "print(posterior_Qv[5])"
   ]
  },
  {
   "cell_type": "code",
   "execution_count": 9,
   "metadata": {},
   "outputs": [
    {
     "data": {
      "text/plain": [
       "Parameter containing:\n",
       "tensor([0.0167, 0.0167, 0.0167, 0.9833, 0.0167, 0.0167], requires_grad=True)"
      ]
     },
     "execution_count": 9,
     "metadata": {},
     "output_type": "execute_result"
    }
   ],
   "source": [
    "posterior_rho"
   ]
  },
  {
   "cell_type": "code",
   "execution_count": null,
   "metadata": {},
   "outputs": [],
   "source": []
  }
 ],
 "metadata": {
  "kernelspec": {
   "display_name": "Python 3 (ipykernel)",
   "language": "python",
   "name": "python3"
  },
  "language_info": {
   "codemirror_mode": {
    "name": "ipython",
    "version": 3
   },
   "file_extension": ".py",
   "mimetype": "text/x-python",
   "name": "python",
   "nbconvert_exporter": "python",
   "pygments_lexer": "ipython3",
   "version": "3.10.13"
  }
 },
 "nbformat": 4,
 "nbformat_minor": 4
}
