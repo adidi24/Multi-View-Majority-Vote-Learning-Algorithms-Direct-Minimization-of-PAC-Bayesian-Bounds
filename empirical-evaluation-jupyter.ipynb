{
 "cells": [
  {
   "cell_type": "markdown",
   "metadata": {},
   "source": [
    "# Multi-View-Majority-Vote-Learning-Algorithms-Direct-Minimization-of-PAC-Bayesian-Bounds"
   ]
  },
  {
   "cell_type": "markdown",
   "metadata": {},
   "source": [
    "This Notebook contains everything necessary to reproduce the experiments in our paper:  \n",
    "\n",
    "*Multi-View Majority Vote Learning Algorithms: Direct Minimization of PAC-Bayesian Bounds*"
   ]
  },
  {
   "cell_type": "markdown",
   "metadata": {},
   "source": [
    "## Imports"
   ]
  },
  {
   "cell_type": "code",
   "execution_count": 1,
   "metadata": {},
   "outputs": [],
   "source": [
    "import seaborn as sns\n",
    "import matplotlib.pyplot as plt\n",
    "import pandas as pd\n",
    "import numpy as np\n",
    "from collections import OrderedDict\n",
    "\n",
    "# Scikit-learn\n",
    "from sklearn import preprocessing\n",
    "from sklearn.utils import check_random_state\n",
    "RAND = check_random_state(42)\n",
    "\n",
    "# torch\n",
    "import torch\n",
    "import torch.nn as nn\n",
    "import torch.nn.functional as F\n",
    "from torch.nn.parameter import Parameter\n",
    "from torch.autograd import Variable\n",
    "from torch.utils.data import DataLoader,Dataset\n",
    "device = torch.device(\"cuda:0\" if torch.cuda.is_available() else \"cpu\")\n",
    "\n",
    "\n",
    "from mvpb.dNDF import MultiViewBoundsDeepNeuralDecisionForests\n",
    "\n",
    "\n",
    "# Import data\n",
    "from mvlearn.datasets import load_UCImultifeature\n",
    "from data.datasets import (SampleData,\n",
    "                           Nutrimouse,\n",
    "                           train_test_split,\n",
    "                           train_test_merge,\n",
    "                           s1_s2_split)\n",
    "from mvpb.util import uniform_distribution"
   ]
  },
  {
   "cell_type": "code",
   "execution_count": 12,
   "metadata": {},
   "outputs": [],
   "source": [
    "v=6\n",
    "m=3"
   ]
  },
  {
   "cell_type": "code",
   "execution_count": 13,
   "metadata": {},
   "outputs": [],
   "source": [
    "emp_risks_views  = [[0.43455497, 0.50580645, 0.60298103],\n",
    "                                    [0.43682796, 0.6295302,  0.54495159],\n",
    "                                    [0.51780822, 0.44562334, 0.56420765],\n",
    "                                    [0.33877551, 0.23584906, 0.42354533],\n",
    "                                    [0.44179523, 0.44889503, 0.45938748],\n",
    "                                    [0.44385027, 0.53288591, 0.4295393 ]]\n"
   ]
  },
  {
   "cell_type": "markdown",
   "metadata": {},
   "source": [
    "## Load and prepare the multiview datasets"
   ]
  },
  {
   "cell_type": "code",
   "execution_count": 3,
   "metadata": {},
   "outputs": [
    {
     "data": {
      "text/plain": [
       "array([0., 1., 2., 3., 4., 5., 6., 7., 8., 9.])"
      ]
     },
     "execution_count": 3,
     "metadata": {},
     "output_type": "execute_result"
    }
   ],
   "source": [
    "mv_data, labels = load_UCImultifeature()\n",
    "np.unique(labels)"
   ]
  },
  {
   "cell_type": "code",
   "execution_count": 4,
   "metadata": {},
   "outputs": [],
   "source": [
    "scaler = preprocessing.MinMaxScaler()\n",
    "for i in range(len(mv_data)):\n",
    "    mv_data[i] = scaler.fit_transform(mv_data[i])"
   ]
  },
  {
   "cell_type": "code",
   "execution_count": 5,
   "metadata": {},
   "outputs": [],
   "source": [
    "mvb = MultiViewBoundsDeepNeuralDecisionForests(nb_estimators=3, nb_views=len(mv_data), depth =3,used_feature_rate=0.8)"
   ]
  },
  {
   "cell_type": "code",
   "execution_count": 6,
   "metadata": {},
   "outputs": [
    {
     "data": {
      "text/html": [
       "<style>#sk-container-id-1 {color: black;}#sk-container-id-1 pre{padding: 0;}#sk-container-id-1 div.sk-toggleable {background-color: white;}#sk-container-id-1 label.sk-toggleable__label {cursor: pointer;display: block;width: 100%;margin-bottom: 0;padding: 0.3em;box-sizing: border-box;text-align: center;}#sk-container-id-1 label.sk-toggleable__label-arrow:before {content: \"▸\";float: left;margin-right: 0.25em;color: #696969;}#sk-container-id-1 label.sk-toggleable__label-arrow:hover:before {color: black;}#sk-container-id-1 div.sk-estimator:hover label.sk-toggleable__label-arrow:before {color: black;}#sk-container-id-1 div.sk-toggleable__content {max-height: 0;max-width: 0;overflow: hidden;text-align: left;background-color: #f0f8ff;}#sk-container-id-1 div.sk-toggleable__content pre {margin: 0.2em;color: black;border-radius: 0.25em;background-color: #f0f8ff;}#sk-container-id-1 input.sk-toggleable__control:checked~div.sk-toggleable__content {max-height: 200px;max-width: 100%;overflow: auto;}#sk-container-id-1 input.sk-toggleable__control:checked~label.sk-toggleable__label-arrow:before {content: \"▾\";}#sk-container-id-1 div.sk-estimator input.sk-toggleable__control:checked~label.sk-toggleable__label {background-color: #d4ebff;}#sk-container-id-1 div.sk-label input.sk-toggleable__control:checked~label.sk-toggleable__label {background-color: #d4ebff;}#sk-container-id-1 input.sk-hidden--visually {border: 0;clip: rect(1px 1px 1px 1px);clip: rect(1px, 1px, 1px, 1px);height: 1px;margin: -1px;overflow: hidden;padding: 0;position: absolute;width: 1px;}#sk-container-id-1 div.sk-estimator {font-family: monospace;background-color: #f0f8ff;border: 1px dotted black;border-radius: 0.25em;box-sizing: border-box;margin-bottom: 0.5em;}#sk-container-id-1 div.sk-estimator:hover {background-color: #d4ebff;}#sk-container-id-1 div.sk-parallel-item::after {content: \"\";width: 100%;border-bottom: 1px solid gray;flex-grow: 1;}#sk-container-id-1 div.sk-label:hover label.sk-toggleable__label {background-color: #d4ebff;}#sk-container-id-1 div.sk-serial::before {content: \"\";position: absolute;border-left: 1px solid gray;box-sizing: border-box;top: 0;bottom: 0;left: 50%;z-index: 0;}#sk-container-id-1 div.sk-serial {display: flex;flex-direction: column;align-items: center;background-color: white;padding-right: 0.2em;padding-left: 0.2em;position: relative;}#sk-container-id-1 div.sk-item {position: relative;z-index: 1;}#sk-container-id-1 div.sk-parallel {display: flex;align-items: stretch;justify-content: center;background-color: white;position: relative;}#sk-container-id-1 div.sk-item::before, #sk-container-id-1 div.sk-parallel-item::before {content: \"\";position: absolute;border-left: 1px solid gray;box-sizing: border-box;top: 0;bottom: 0;left: 50%;z-index: -1;}#sk-container-id-1 div.sk-parallel-item {display: flex;flex-direction: column;z-index: 1;position: relative;background-color: white;}#sk-container-id-1 div.sk-parallel-item:first-child::after {align-self: flex-end;width: 50%;}#sk-container-id-1 div.sk-parallel-item:last-child::after {align-self: flex-start;width: 50%;}#sk-container-id-1 div.sk-parallel-item:only-child::after {width: 0;}#sk-container-id-1 div.sk-dashed-wrapped {border: 1px dashed gray;margin: 0 0.4em 0.5em 0.4em;box-sizing: border-box;padding-bottom: 0.4em;background-color: white;}#sk-container-id-1 div.sk-label label {font-family: monospace;font-weight: bold;display: inline-block;line-height: 1.2em;}#sk-container-id-1 div.sk-label-container {text-align: center;}#sk-container-id-1 div.sk-container {/* jupyter's `normalize.less` sets `[hidden] { display: none; }` but bootstrap.min.css set `[hidden] { display: none !important; }` so we also need the `!important` here to be able to override the default hidden behavior on the sphinx rendered scikit-learn.org. See: https://github.com/scikit-learn/scikit-learn/issues/21755 */display: inline-block !important;position: relative;}#sk-container-id-1 div.sk-text-repr-fallback {display: none;}</style><div id=\"sk-container-id-1\" class=\"sk-top-container\"><div class=\"sk-text-repr-fallback\"><pre>MultiViewBoundsDeepNeuralDecisionForests(depth=3, nb_estimators=3, nb_views=6,\n",
       "                                         posterior=array([0.33333333, 0.33333333, 0.33333333]),\n",
       "                                         used_feature_rate=0.8)</pre><b>In a Jupyter environment, please rerun this cell to show the HTML representation or trust the notebook. <br />On GitHub, the HTML representation is unable to render, please try loading this page with nbviewer.org.</b></div><div class=\"sk-container\" hidden><div class=\"sk-item\"><div class=\"sk-estimator sk-toggleable\"><input class=\"sk-toggleable__control sk-hidden--visually\" id=\"sk-estimator-id-1\" type=\"checkbox\" checked><label for=\"sk-estimator-id-1\" class=\"sk-toggleable__label sk-toggleable__label-arrow\">MultiViewBoundsDeepNeuralDecisionForests</label><div class=\"sk-toggleable__content\"><pre>MultiViewBoundsDeepNeuralDecisionForests(depth=3, nb_estimators=3, nb_views=6,\n",
       "                                         posterior=array([0.33333333, 0.33333333, 0.33333333]),\n",
       "                                         used_feature_rate=0.8)</pre></div></div></div></div></div>"
      ],
      "text/plain": [
       "MultiViewBoundsDeepNeuralDecisionForests(depth=3, nb_estimators=3, nb_views=6,\n",
       "                                         posterior=array([0.33333333, 0.33333333, 0.33333333]),\n",
       "                                         used_feature_rate=0.8)"
      ]
     },
     "execution_count": 6,
     "metadata": {},
     "output_type": "execute_result"
    }
   ],
   "source": [
    "mvb.fit(mv_data,labels)"
   ]
  },
  {
   "cell_type": "code",
   "execution_count": 7,
   "metadata": {},
   "outputs": [
    {
     "name": "stdout",
     "output_type": "stream",
     "text": [
      "[[0.43455497 0.50580645 0.60298103]\n",
      " [0.43682796 0.6295302  0.54495159]\n",
      " [0.51780822 0.44562334 0.56420765]\n",
      " [0.33877551 0.23584906 0.42354533]\n",
      " [0.44179523 0.44889503 0.45938748]\n",
      " [0.44385027 0.53288591 0.4295393 ]]\n",
      "Bound: tensor(0.9570, dtype=torch.float64, grad_fn=<AddBackward0>)\n",
      "Upd: tensor(0.9570, dtype=torch.float64, grad_fn=<AddBackward0>)\n",
      "Différence: tensor(2.0000e-09, dtype=torch.float64, grad_fn=<SubBackward0>)\n",
      "Iteration 0, Loss: 0.5747438456170645\n",
      "Iteration 1, Loss: 0.5747322296035198\n",
      "Iteration 2, Loss: 0.5747102462809931\n",
      "Iteration 3, Loss: 0.574678791371241\n",
      "Iteration 4, Loss: 0.5746388876374036\n",
      "Iteration 5, Loss: 0.5745913540608433\n",
      "Iteration 6, Loss: 0.5745369077830766\n",
      "Iteration 7, Loss: 0.5744762641871223\n",
      "Iteration 8, Loss: 0.5744100322808807\n",
      "Iteration 9, Loss: 0.5743387077145884\n",
      "Iteration 10, Loss: 0.5742628021420889\n",
      "Iteration 11, Loss: 0.5741827709945986\n",
      "Iteration 12, Loss: 0.574098983688286\n",
      "Iteration 13, Loss: 0.574011809863725\n",
      "Iteration 14, Loss: 0.5739215077232059\n",
      "Iteration 15, Loss: 0.573828493941188\n",
      "Iteration 16, Loss: 0.5737329653116696\n",
      "Iteration 17, Loss: 0.5736350900266429\n",
      "Iteration 18, Loss: 0.5735350802710328\n",
      "Iteration 19, Loss: 0.5734332003469202\n",
      "Iteration 20, Loss: 0.5733295877344338\n",
      "Iteration 21, Loss: 0.5732242989264584\n",
      "Iteration 22, Loss: 0.5731176787893306\n",
      "Iteration 23, Loss: 0.5730096477069462\n",
      "Iteration 24, Loss: 0.5729004353820646\n",
      "Iteration 25, Loss: 0.5727900593827592\n",
      "Iteration 26, Loss: 0.5726786171396441\n",
      "Iteration 27, Loss: 0.5725662962297519\n",
      "Iteration 28, Loss: 0.5724530861715459\n",
      "Iteration 29, Loss: 0.5723390191023461\n",
      "Iteration 30, Loss: 0.5722241468572105\n",
      "Iteration 31, Loss: 0.5721085872196164\n",
      "Iteration 32, Loss: 0.5719923842817795\n",
      "Iteration 33, Loss: 0.5718755122294429\n",
      "Iteration 34, Loss: 0.5717580639408008\n",
      "Iteration 35, Loss: 0.5716401045438853\n",
      "Iteration 36, Loss: 0.57152152089923\n",
      "Iteration 37, Loss: 0.5714025293589172\n",
      "Iteration 38, Loss: 0.5712829947291247\n",
      "Iteration 39, Loss: 0.5711630279336957\n",
      "Iteration 40, Loss: 0.5710426589610538\n",
      "Iteration 41, Loss: 0.5709218100114178\n",
      "Iteration 42, Loss: 0.5708005352332461\n",
      "Iteration 43, Loss: 0.5706788675259122\n",
      "Iteration 44, Loss: 0.5705568592027711\n",
      "Iteration 45, Loss: 0.5704345167173966\n",
      "Iteration 46, Loss: 0.5703117436965112\n",
      "Iteration 47, Loss: 0.5701886553482245\n",
      "Iteration 48, Loss: 0.570065211905494\n",
      "Iteration 49, Loss: 0.5699414096960989\n",
      "Iteration 50, Loss: 0.5698172850800384\n",
      "Iteration 51, Loss: 0.5696928404508016\n",
      "Iteration 52, Loss: 0.5695680151792486\n",
      "Iteration 53, Loss: 0.5694429321432314\n",
      "Iteration 54, Loss: 0.5693175235878859\n",
      "Iteration 55, Loss: 0.5691917432739193\n",
      "Iteration 56, Loss: 0.5690656842392295\n",
      "Iteration 57, Loss: 0.5689393485447976\n",
      "Iteration 58, Loss: 0.5688126444238804\n",
      "Iteration 59, Loss: 0.5686856306304642\n",
      "Iteration 60, Loss: 0.5685583038372061\n",
      "Iteration 61, Loss: 0.5684306907277394\n",
      "Iteration 62, Loss: 0.5683027375396769\n",
      "Iteration 63, Loss: 0.5681744581561234\n",
      "Iteration 64, Loss: 0.5680459158035893\n",
      "Iteration 65, Loss: 0.5679170306970952\n",
      "Iteration 66, Loss: 0.5677878788276779\n",
      "Iteration 67, Loss: 0.5676583737165944\n",
      "Iteration 68, Loss: 0.5675285666366808\n",
      "Iteration 69, Loss: 0.5673984623573477\n",
      "Iteration 70, Loss: 0.5672679968665932\n",
      "Iteration 71, Loss: 0.5671372482718979\n",
      "Iteration 72, Loss: 0.5670061815309183\n",
      "Iteration 73, Loss: 0.5668747852410895\n",
      "Iteration 74, Loss: 0.5667430843892797\n",
      "Iteration 75, Loss: 0.566610993002941\n",
      "Iteration 76, Loss: 0.5664786409429211\n",
      "Iteration 77, Loss: 0.5663459528216686\n",
      "Iteration 78, Loss: 0.5662129385620197\n",
      "Iteration 79, Loss: 0.566079594570365\n",
      "Iteration 80, Loss: 0.5659459347197013\n",
      "Iteration 81, Loss: 0.5658118892989694\n",
      "Iteration 82, Loss: 0.5656776310976757\n",
      "Iteration 83, Loss: 0.5655429760378596\n",
      "Iteration 84, Loss: 0.56540795832441\n",
      "Iteration 85, Loss: 0.565272550701527\n",
      "Iteration 86, Loss: 0.565136979107629\n",
      "Iteration 87, Loss: 0.5650008664714858\n",
      "Iteration 88, Loss: 0.5648645056124634\n",
      "Iteration 89, Loss: 0.5647277769093688\n",
      "Iteration 90, Loss: 0.5645907307324518\n",
      "Iteration 91, Loss: 0.5644533320014352\n",
      "Iteration 92, Loss: 0.5643155306832697\n",
      "Iteration 93, Loss: 0.5641773562877043\n",
      "Iteration 94, Loss: 0.5640389129166375\n",
      "Iteration 95, Loss: 0.5639001404260368\n",
      "Iteration 96, Loss: 0.5637608924192682\n",
      "Iteration 97, Loss: 0.5636212972258303\n",
      "Iteration 98, Loss: 0.5634813852108876\n",
      "Iteration 99, Loss: 0.5633410975557005\n"
     ]
    }
   ],
   "source": [
    "posterior_Qv , posterior_rho = mvb.optimize_rho('Lambda',delta=0.05, eps=10**-9)"
   ]
  },
  {
   "cell_type": "code",
   "execution_count": 8,
   "metadata": {},
   "outputs": [
    {
     "name": "stdout",
     "output_type": "stream",
     "text": [
      "Parameter containing:\n",
      "tensor([0.3761, 0.3374, 0.2865], requires_grad=True)\n",
      "Parameter containing:\n",
      "tensor([0.3865, 0.2850, 0.3285], requires_grad=True)\n",
      "Parameter containing:\n",
      "tensor([0.3285, 0.3675, 0.3040], requires_grad=True)\n",
      "Parameter containing:\n",
      "tensor([0.3288, 0.3928, 0.2785], requires_grad=True)\n",
      "Parameter containing:\n",
      "tensor([0.3379, 0.3340, 0.3281], requires_grad=True)\n",
      "Parameter containing:\n",
      "tensor([0.3468, 0.2983, 0.3548], requires_grad=True)\n"
     ]
    }
   ],
   "source": [
    "print(posterior_Qv[0])\n",
    "print(posterior_Qv[1])\n",
    "print(posterior_Qv[2])\n",
    "print(posterior_Qv[3])\n",
    "print(posterior_Qv[4])\n",
    "print(posterior_Qv[5])"
   ]
  },
  {
   "cell_type": "code",
   "execution_count": 9,
   "metadata": {},
   "outputs": [
    {
     "data": {
      "text/plain": [
       "Parameter containing:\n",
       "tensor([0.0882, 0.0540, 0.0956, 0.4107, 0.1910, 0.1605], requires_grad=True)"
      ]
     },
     "execution_count": 9,
     "metadata": {},
     "output_type": "execute_result"
    }
   ],
   "source": [
    "posterior_rho"
   ]
  },
  {
   "cell_type": "code",
   "execution_count": 11,
   "metadata": {},
   "outputs": [
    {
     "name": "stdout",
     "output_type": "stream",
     "text": [
      "tensor([0.1269, 0.2024, 0.1478, 0.1739, 0.1874, 0.1616])\n"
     ]
    }
   ],
   "source": [
    "vecteur = torch.tensor([-0.0944,  0.3723,  0.0580,  0.2210,  0.2957,  0.1475])\n",
    "\n",
    "# Calcul du softmax\n",
    "softmax_vecteur = torch.softmax(vecteur, dim=0)\n",
    "\n",
    "print(softmax_vecteur)"
   ]
  },
  {
   "cell_type": "code",
   "execution_count": null,
   "metadata": {},
   "outputs": [],
   "source": []
  }
 ],
 "metadata": {
  "kernelspec": {
   "display_name": "Python 3 (ipykernel)",
   "language": "python",
   "name": "python3"
  },
  "language_info": {
   "codemirror_mode": {
    "name": "ipython",
    "version": 3
   },
   "file_extension": ".py",
   "mimetype": "text/x-python",
   "name": "python",
   "nbconvert_exporter": "python",
   "pygments_lexer": "ipython3",
   "version": "3.11.5"
  }
 },
 "nbformat": 4,
 "nbformat_minor": 4
}
