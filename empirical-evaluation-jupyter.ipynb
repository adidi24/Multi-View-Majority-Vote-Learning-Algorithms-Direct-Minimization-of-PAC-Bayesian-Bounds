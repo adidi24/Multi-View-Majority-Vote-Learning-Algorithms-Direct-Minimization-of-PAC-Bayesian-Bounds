{
 "cells": [
  {
   "cell_type": "markdown",
   "metadata": {},
   "source": [
    "# Multi-View-Majority-Vote-Learning-Algorithms-Direct-Minimization-of-PAC-Bayesian-Bounds"
   ]
  },
  {
   "cell_type": "code",
   "execution_count": 35,
   "metadata": {},
   "outputs": [],
   "source": [
    "import numpy as np\n",
    "from sklearn.utils import check_random_state\n",
    "RAND = check_random_state(42)\n",
    "\n",
    "\n",
    "from mvb import RandomForestClassifier as RFC\n",
    "\n",
    "\n",
    "# Multi-view dataset : Nhanes 4 views https://wwwn.cdc.gov/nchs/nhanes/continuousnhanes/overview.aspx?BeginYear=2017\n",
    "from datasets import Nhanes\n"
   ]
  },
  {
   "cell_type": "code",
   "execution_count": 40,
   "metadata": {},
   "outputs": [
    {
     "name": "stdout",
     "output_type": "stream",
     "text": [
      "number of views 4\n"
     ]
    }
   ],
   "source": [
    "datasets  = Nhanes() # load Nhanes dataset\n",
    "X,y = datasets.getData(return_list = True, domain_datasets=False)\n",
    "print(\"number of views\",len(X))\n",
    "\n",
    "#concatenation of te views###############################\n",
    "X_concat = np.concatenate((X[0],X[1],X[2],X[3]), axis=1)\n",
    "###############################\n",
    "\n",
    "X_view1 = X[0]\n",
    "X_view2 = X[1]\n",
    "X_view3 = X[2]\n",
    "X_view4 = X[3]"
   ]
  },
  {
   "cell_type": "code",
   "execution_count": 43,
   "metadata": {},
   "outputs": [
    {
     "name": "stdout",
     "output_type": "stream",
     "text": [
      "Training...\n",
      "{'PBkl': 0.21566265460676134, 'TND': 0.261247355488244, 'CTD': 0.337451933224099, 'CCTND': 0.26446036648574606, 'CCPBB': 0.30771139774346745, 'CCPBUB': 0.28158620867232265, 'CCPBSkl': 0.2644603664857447, 'C1': 0.28069695010013507, 'C2': 0.27312333697704916, 'DIS': 0.2890231053727954}\n",
      "Optimizing lambda...\n",
      "mv_risk 0.04926455355293147 bound None\n",
      "Optimizing TND...\n",
      "mv_risk 0.026061736067951147 bound 0.25342511064154366\n",
      "Optimizing DIS...\n",
      "mv_risk 0.02780194737932462 bound 0.28523070520318683\n",
      "Optimizing DIS with unlabeled\n",
      "mv_risk 0.03190387404184791 bound 0.3042799284799073\n"
     ]
    }
   ],
   "source": [
    "###############################Optimization Bounds for the concatenat view############################### \n",
    "rhos = []\n",
    "rf = RFC(100,max_features=\"sqrt\",random_state=check_random_state(42))\n",
    "print(\"Training...\")\n",
    "_  = rf.fit(X_concat,y)\n",
    "_, mv_risk = rf.predict(X_concat,y)\n",
    "stats  = rf.stats()\n",
    "\n",
    "bounds, stats = rf.bounds(stats=stats)\n",
    "res_unf = (mv_risk, stats, bounds, -1, -1)\n",
    "print(bounds)\n",
    "        \n",
    "# Optimize Lambda\n",
    "print(\"Optimizing lambda...\")\n",
    "(_, rho, bl) = rf.optimize_rho('Lambda')\n",
    "_, mv_risk = rf.predict(X_concat,y)\n",
    "stats = rf.aggregate_stats(stats)\n",
    "bounds, stats = rf.bounds(stats=stats)\n",
    "res_lam = (mv_risk, stats, bounds, bl, -1)\n",
    "rhos.append(rho)\n",
    "print('mv_risk', mv_risk, 'bound', bounds.get('Lambda'))\n",
    "   \n",
    "\"\"\" Optimize TND \"\"\"\n",
    "print(\"Optimizing TND...\")\n",
    "(_, rho, bl) = rf.optimize_rho('TND')\n",
    "_, mv_risk = rf.predict(X_concat,y)\n",
    "stats = rf.aggregate_stats(stats) # update rho-dependent stats\n",
    "bounds, stats = rf.bounds(stats=stats, spec_bound='TND')\n",
    "res_tnd = (mv_risk, stats, bounds, bl, -1, -1)\n",
    "rhos.append(rho)\n",
    "print('mv_risk', mv_risk, 'bound', bounds.get('TND', -1.0))\n",
    "\n",
    "\n",
    "print(\"Optimizing DIS...\")\n",
    "(_, rho, bl, bg) = rf.optimize_rho('DIS')\n",
    "_, mv_risk = rf.predict(X_concat,y)\n",
    "stats = rf.aggregate_stats(stats)\n",
    "bounds, stats = rf.bounds(stats=stats)\n",
    "res_lam = (mv_risk, stats, bounds, bl, -1)\n",
    "rhos.append(rho)\n",
    "print('mv_risk', mv_risk, 'bound', bounds.get('DIS', -1.0))\n",
    "\n",
    "print(\"Optimizing DIS with unlabeled\")\n",
    "(_, rho, bl, bg) = rf.optimize_rho('DIS',unlabeled_data=X_concat)\n",
    "_, mv_risk = rf.predict(X_concat,y)\n",
    "stats  = rf.stats(unlabeled_data=X_concat)\n",
    "bounds, stats = rf.bounds(stats=stats)\n",
    "rhos.append(rho)\n",
    "print('mv_risk', mv_risk, 'bound', bounds.get('DIS', -1.0))"
   ]
  },
  {
   "cell_type": "code",
   "execution_count": 45,
   "metadata": {},
   "outputs": [
    {
     "name": "stdout",
     "output_type": "stream",
     "text": [
      "Training...\n",
      "{'PBkl': 0.21146573848417, 'TND': 0.26387111156732357, 'CTD': 0.33793867140407097, 'CCTND': 0.2670981137235494, 'CCPBB': 0.31022498378251845, 'CCPBUB': 0.28476725975896333, 'CCPBSkl': 0.26709811372354897, 'C1': 0.2805235452850753, 'C2': 0.275080603908077, 'DIS': 0.2895510758834864}\n",
      "Optimizing lambda...\n",
      "mv_risk 0.05307644499689246 bound None\n",
      "Optimizing TND...\n",
      "mv_risk 0.03393412057178369 bound 0.25532047314213374\n",
      "Optimizing DIS...\n",
      "mv_risk 0.03799461363165524 bound 0.284886841887237\n",
      "Optimizing DIS with unlabeled\n",
      "mv_risk 0.041640770665009375 bound 0.29486541065071903\n"
     ]
    }
   ],
   "source": [
    "###############################Optimization Bounds for the view1 ############################### \n",
    "rhos = []\n",
    "rf = RFC(100,max_features=\"sqrt\",random_state=check_random_state(42))\n",
    "print(\"Training...\")\n",
    "_  = rf.fit(X_view1,y)\n",
    "_, mv_risk = rf.predict(X_view1,y)\n",
    "stats  = rf.stats()\n",
    "\n",
    "bounds, stats = rf.bounds(stats=stats)\n",
    "res_unf = (mv_risk, stats, bounds, -1, -1)\n",
    "print(bounds)\n",
    "        \n",
    "# Optimize Lambda\n",
    "print(\"Optimizing lambda...\")\n",
    "(_, rho, bl) = rf.optimize_rho('Lambda')\n",
    "_, mv_risk = rf.predict(X_view1,y)\n",
    "stats = rf.aggregate_stats(stats)\n",
    "bounds, stats = rf.bounds(stats=stats)\n",
    "res_lam = (mv_risk, stats, bounds, bl, -1)\n",
    "rhos.append(rho)\n",
    "print('mv_risk', mv_risk, 'bound', bounds.get('Lambda'))\n",
    "   \n",
    "\"\"\" Optimize TND \"\"\"\n",
    "print(\"Optimizing TND...\")\n",
    "(_, rho, bl) = rf.optimize_rho('TND')\n",
    "_, mv_risk = rf.predict(X_view1,y)\n",
    "stats = rf.aggregate_stats(stats) # update rho-dependent stats\n",
    "bounds, stats = rf.bounds(stats=stats, spec_bound='TND')\n",
    "res_tnd = (mv_risk, stats, bounds, bl, -1, -1)\n",
    "rhos.append(rho)\n",
    "print('mv_risk', mv_risk, 'bound', bounds.get('TND', -1.0))\n",
    "\n",
    "\n",
    "print(\"Optimizing DIS...\")\n",
    "(_, rho, bl, bg) = rf.optimize_rho('DIS')\n",
    "_, mv_risk = rf.predict(X_view1,y)\n",
    "stats = rf.aggregate_stats(stats)\n",
    "bounds, stats = rf.bounds(stats=stats)\n",
    "res_lam = (mv_risk, stats, bounds, bl, -1)\n",
    "rhos.append(rho)\n",
    "print('mv_risk', mv_risk, 'bound', bounds.get('DIS', -1.0))\n",
    "\n",
    "print(\"Optimizing DIS with unlabeled\")\n",
    "(_, rho, bl, bg) = rf.optimize_rho('DIS',unlabeled_data=X_view1)\n",
    "_, mv_risk = rf.predict(X_view1,y)\n",
    "stats  = rf.stats(unlabeled_data=X_view1)\n",
    "bounds, stats = rf.bounds(stats=stats)\n",
    "rhos.append(rho)\n",
    "print('mv_risk', mv_risk, 'bound', bounds.get('DIS', -1.0))"
   ]
  },
  {
   "cell_type": "code",
   "execution_count": null,
   "metadata": {},
   "outputs": [],
   "source": []
  }
 ],
 "metadata": {
  "kernelspec": {
   "display_name": "Python 3 (ipykernel)",
   "language": "python",
   "name": "python3"
  },
  "language_info": {
   "codemirror_mode": {
    "name": "ipython",
    "version": 3
   },
   "file_extension": ".py",
   "mimetype": "text/x-python",
   "name": "python",
   "nbconvert_exporter": "python",
   "pygments_lexer": "ipython3",
   "version": "3.10.13"
  }
 },
 "nbformat": 4,
 "nbformat_minor": 4
}
