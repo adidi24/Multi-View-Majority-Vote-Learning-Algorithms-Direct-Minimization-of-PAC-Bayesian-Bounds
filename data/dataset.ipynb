{
 "cells": [
  {
   "cell_type": "code",
   "execution_count": 2,
   "metadata": {},
   "outputs": [
    {
     "name": "stdout",
     "output_type": "stream",
     "text": [
      "Collecting liac-arff\n",
      "  Downloading liac-arff-2.5.0.tar.gz (13 kB)\n",
      "  Preparing metadata (setup.py) ... \u001b[?25ldone\n",
      "\u001b[?25hBuilding wheels for collected packages: liac-arff\n",
      "  Building wheel for liac-arff (setup.py) ... \u001b[?25ldone\n",
      "\u001b[?25h  Created wheel for liac-arff: filename=liac_arff-2.5.0-py3-none-any.whl size=11717 sha256=53c06781e98038133a6fb642ae48f5d846a253fa89c087357ee47ae3241091f7\n",
      "  Stored in directory: /Users/abdelkrimzitouni/Library/Caches/pip/wheels/00/23/31/5e562fce1f95aabe57f2a7320d07433ba1cd152bcde2f6a002\n",
      "Successfully built liac-arff\n",
      "Installing collected packages: liac-arff\n",
      "Successfully installed liac-arff-2.5.0\n",
      "Note: you may need to restart the kernel to use updated packages.\n"
     ]
    }
   ],
   "source": [
    "%pip install liac-arff"
   ]
  },
  {
   "cell_type": "code",
   "execution_count": 16,
   "metadata": {},
   "outputs": [],
   "source": [
    "!gunzip -c ./ALOI/aloi-8d.csv.gz > ./ALOI/aloi-8d.csv\n",
    "!gunzip -c ./ALOI/aloi-haralick-1.csv.gz > ./ALOI/aloi-haralick-1.csv\n",
    "!gunzip -c ./ALOI/aloi-hsb-2x2x2.csv.gz > ./ALOI/aloi-hsb-2x2x2.csv"
   ]
  },
  {
   "cell_type": "code",
   "execution_count": 1,
   "metadata": {},
   "outputs": [],
   "source": [
    "import os\n",
    "import numpy as np\n",
    "import pandas as pd\n",
    "import arff\n",
    "\n",
    "def read_aloi_directory(directory):\n",
    "    file_list = os.listdir(directory)\n",
    "    dataset_list = []\n",
    "    last_column_values = []\n",
    "    objs = arff.load(open(directory+'/objs.arff'))\n",
    "    labels = np.array(objs['data'])\n",
    "    sorted_labels = labels[np.argsort(labels[:, -1].astype(str))]\n",
    "    sorted_labels[:, :-1] = sorted_labels[:, :-1].astype(float)\n",
    "    last_column_label_values = sorted_labels[:, -1]\n",
    "    for file in file_list:\n",
    "        file_path = os.path.join(directory, file)\n",
    "        \n",
    "        if file.endswith('.csv'):\n",
    "            df = pd.read_csv(file_path, delimiter=' ', header=None)\n",
    "            df = df.dropna(axis=1, how='all')\n",
    "            data = df.values\n",
    "        elif file == \"aloi-colorsim77.arff\":\n",
    "            dataset = arff.load(open(file_path))\n",
    "            data = np.array(dataset['data'])\n",
    "        else:\n",
    "            continue\n",
    "        \n",
    "        sorted_dataset = data[np.argsort(data[:, -1].astype(str))]\n",
    "        last_column_values = sorted_dataset[:, -1]\n",
    "        \n",
    "        if np.all(last_column_values == last_column_label_values):\n",
    "            dataset_list.append(sorted_dataset)\n",
    "    \n",
    "    dataset_list.append(sorted_labels)\n",
    "    return dataset_list\n"
   ]
  },
  {
   "cell_type": "code",
   "execution_count": 9,
   "metadata": {},
   "outputs": [],
   "source": [
    "aloi = read_aloi_directory('./ALOI')"
   ]
  },
  {
   "cell_type": "code",
   "execution_count": 12,
   "metadata": {},
   "outputs": [
    {
     "data": {
      "text/plain": [
       "5"
      ]
     },
     "execution_count": 12,
     "metadata": {},
     "output_type": "execute_result"
    }
   ],
   "source": [
    "len(aloi)"
   ]
  },
  {
   "cell_type": "code",
   "execution_count": 15,
   "metadata": {},
   "outputs": [
    {
     "name": "stdout",
     "output_type": "stream",
     "text": [
      "0\n",
      "1\n",
      "2\n",
      "3\n",
      "4\n"
     ]
    }
   ],
   "source": [
    "os.makedirs('aloi_csv', exist_ok=True)\n",
    "# Save each array as a CSV file\n",
    "for i, arr in enumerate(aloi):\n",
    "    df = pd.DataFrame(arr)\n",
    "    # df = df.apply(pd.to_numeric, errors='ignore')\n",
    "    arr = df.to_numpy()\n",
    "    filename = f'aloi_csv/aloi_array_{i}.csv'\n",
    "    print(i)\n",
    "    np.savetxt(filename, arr, delimiter=',', fmt='%s')\n"
   ]
  },
  {
   "cell_type": "code",
   "execution_count": 29,
   "metadata": {},
   "outputs": [
    {
     "data": {
      "text/plain": [
       "[array([[8.86246293e-01, 0.00000000e+00, 0.00000000e+00, ...,\n",
       "         0.00000000e+00, 2.13464808e-02, 1.41262478e-02],\n",
       "        [8.90708641e-01, 0.00000000e+00, 0.00000000e+00, ...,\n",
       "         0.00000000e+00, 1.85275608e-02, 1.68773510e-02],\n",
       "        [8.92001682e-01, 0.00000000e+00, 0.00000000e+00, ...,\n",
       "         0.00000000e+00, 1.45331489e-02, 2.14549877e-02],\n",
       "        ...,\n",
       "        [9.85243056e-01, 4.36288339e-04, 3.25520833e-04, ...,\n",
       "         0.00000000e+00, 1.23652705e-03, 1.18295175e-02],\n",
       "        [9.85206887e-01, 5.53837529e-04, 4.06901042e-04, ...,\n",
       "         3.61689815e-05, 1.47614656e-03, 1.12734194e-02],\n",
       "        [9.85866970e-01, 6.12612124e-04, 6.87210648e-04, ...,\n",
       "         2.48661748e-05, 1.38346354e-03, 1.03194625e-02]]),\n",
       " array([[0.52106334, 0.5549817 , 0.55797701, ..., 0.65483649, 0.59232047,\n",
       "         0.51372448],\n",
       "        [0.51680537, 0.55127803, 0.55560497, ..., 0.65723221, 0.59390096,\n",
       "         0.51455813],\n",
       "        [0.51327497, 0.54751493, 0.55261007, ..., 0.6617243 , 0.59765731,\n",
       "         0.51766337],\n",
       "        ...,\n",
       "        [0.43211503, 0.47109387, 0.49400604, ..., 0.69059443, 0.60842636,\n",
       "         0.51472406],\n",
       "        [0.43135114, 0.4707066 , 0.49390079, ..., 0.68830559, 0.60636211,\n",
       "         0.51297224],\n",
       "        [0.43046736, 0.469222  , 0.4920494 , ..., 0.6894209 , 0.60706375,\n",
       "         0.51344914]]),\n",
       " array([[ 1.07696785e-01,  4.38631411e-01, -2.66645251e+03, ...,\n",
       "          7.07723808e-01, -6.42185194e-01,  9.72326007e-01],\n",
       "        [ 1.07753558e-01,  4.34191668e-01, -2.68249209e+03, ...,\n",
       "          7.06114178e-01, -6.43020287e-01,  9.72087454e-01],\n",
       "        [ 1.05207246e-01,  4.48866668e-01, -2.68070552e+03, ...,\n",
       "          7.18560911e-01, -6.34048951e-01,  9.70957606e-01],\n",
       "        ...,\n",
       "        [ 2.05728092e-01,  6.09402692e-01, -4.18360189e+03, ...,\n",
       "          6.79261173e-01, -5.50429687e-01,  9.12310764e-01],\n",
       "        [ 2.06667002e-01,  6.52382745e-01, -4.30403666e+03, ...,\n",
       "          6.73621677e-01, -5.51512524e-01,  9.10632676e-01],\n",
       "        [ 2.06342783e-01,  6.80982237e-01, -4.45759336e+03, ...,\n",
       "          6.73485090e-01, -5.47440759e-01,  9.07453595e-01]]),\n",
       " array([[2.06375687e-01, 1.86767578e-02, 6.69331868e-01, ...,\n",
       "         0.00000000e+00, 3.78191913e-03, 2.86887840e-02],\n",
       "        [2.20162851e-01, 2.36839012e-02, 6.60922580e-01, ...,\n",
       "         0.00000000e+00, 3.29589844e-03, 2.65977648e-02],\n",
       "        [2.47513383e-01, 3.13833731e-02, 6.34790491e-01, ...,\n",
       "         0.00000000e+00, 3.02463108e-03, 2.45903863e-02],\n",
       "        ...,\n",
       "        [4.23848470e-01, 1.29846644e-02, 5.12537073e-01, ...,\n",
       "         1.13028067e-03, 6.51041667e-04, 1.65020978e-04],\n",
       "        [4.13809317e-01, 1.24647352e-02, 5.19992405e-01, ...,\n",
       "         1.39702691e-03, 7.95717593e-04, 3.43605324e-04],\n",
       "        [4.20749240e-01, 1.14972150e-02, 5.10554561e-01, ...,\n",
       "         1.50553385e-03, 7.95717593e-04, 4.02379919e-04]]),\n",
       " array([[1., 0., 0., ..., 0., 0., 0.],\n",
       "        [1., 0., 0., ..., 0., 0., 0.],\n",
       "        [1., 0., 0., ..., 0., 0., 0.],\n",
       "        ...,\n",
       "        [0., 0., 0., ..., 0., 1., 0.],\n",
       "        [0., 0., 0., ..., 0., 1., 0.],\n",
       "        [0., 0., 0., ..., 0., 1., 0.]])]"
      ]
     },
     "execution_count": 29,
     "metadata": {},
     "output_type": "execute_result"
    }
   ],
   "source": [
    "mv_dataset_files = os.listdir(\"./aloi_csv\")\n",
    "mv_dataset_files.sort()\n",
    "dataset = []\n",
    "for file in mv_dataset_files:\n",
    "    df = pd.read_csv(f\"./aloi_csv/{file}\", header=None)\n",
    "    numerical_df = df.select_dtypes(include=[np.number])\n",
    "    dataset.append(numerical_df.to_numpy())\n",
    "\n",
    "dataset"
   ]
  },
  {
   "cell_type": "code",
   "execution_count": null,
   "metadata": {},
   "outputs": [],
   "source": []
  }
 ],
 "metadata": {
  "kernelspec": {
   "display_name": "base",
   "language": "python",
   "name": "python3"
  },
  "language_info": {
   "codemirror_mode": {
    "name": "ipython",
    "version": 3
   },
   "file_extension": ".py",
   "mimetype": "text/x-python",
   "name": "python",
   "nbconvert_exporter": "python",
   "pygments_lexer": "ipython3",
   "version": "3.11.5"
  }
 },
 "nbformat": 4,
 "nbformat_minor": 2
}
